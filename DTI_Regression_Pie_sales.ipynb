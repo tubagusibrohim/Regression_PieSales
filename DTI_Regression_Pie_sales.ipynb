{
  "nbformat": 4,
  "nbformat_minor": 0,
  "metadata": {
    "colab": {
      "name": "DTI_Regression_Pie-sales.ipynb",
      "provenance": [],
      "collapsed_sections": [
        "m6OLisrf613X"
      ],
      "toc_visible": true
    },
    "kernelspec": {
      "name": "python3",
      "display_name": "Python 3"
    }
  },
  "cells": [
    {
      "cell_type": "markdown",
      "metadata": {
        "id": "m6OLisrf613X"
      },
      "source": [
        "# Analisis Penjualan Pie dengan Multiple Linear Regression\n",
        "Disini kita akan melakukan analisis penjualan pie menggunakan dataset yang sudah tersedia."
      ]
    },
    {
      "cell_type": "markdown",
      "metadata": {
        "id": "pipLEOA66nHF"
      },
      "source": [
        "# Import library yang digunakan"
      ]
    },
    {
      "cell_type": "code",
      "metadata": {
        "id": "VTzbTh9u6PGj"
      },
      "source": [
        "import pandas as pd\n",
        "import seaborn as sns\n",
        "import matplotlib.pyplot as plt\n",
        "import numpy as np\n",
        "import statsmodels.api as sm\n",
        "from sklearn import linear_model\n",
        "from sklearn import metrics"
      ],
      "execution_count": 30,
      "outputs": []
    },
    {
      "cell_type": "markdown",
      "metadata": {
        "id": "uN-HvCO_7OUS"
      },
      "source": [
        "# Meng-upload dataset yang digunakan"
      ]
    },
    {
      "cell_type": "code",
      "metadata": {
        "id": "DTvwJ7fY7bU_",
        "outputId": "f0028cc5-81b8-439b-f963-6ccbd5827aa3",
        "colab": {
          "base_uri": "https://localhost:8080/",
          "height": 491
        }
      },
      "source": [
        "df = pd.read_csv('https://raw.githubusercontent.com/GigasTaufan/PieSales-using-LinearRegression/master/data/pie-sales.csv', sep =\";\")\n",
        "df"
      ],
      "execution_count": 16,
      "outputs": [
        {
          "output_type": "execute_result",
          "data": {
            "text/html": [
              "<div>\n",
              "<style scoped>\n",
              "    .dataframe tbody tr th:only-of-type {\n",
              "        vertical-align: middle;\n",
              "    }\n",
              "\n",
              "    .dataframe tbody tr th {\n",
              "        vertical-align: top;\n",
              "    }\n",
              "\n",
              "    .dataframe thead th {\n",
              "        text-align: right;\n",
              "    }\n",
              "</style>\n",
              "<table border=\"1\" class=\"dataframe\">\n",
              "  <thead>\n",
              "    <tr style=\"text-align: right;\">\n",
              "      <th></th>\n",
              "      <th>week</th>\n",
              "      <th>pie_sales</th>\n",
              "      <th>price</th>\n",
              "      <th>advertising</th>\n",
              "    </tr>\n",
              "  </thead>\n",
              "  <tbody>\n",
              "    <tr>\n",
              "      <th>0</th>\n",
              "      <td>1</td>\n",
              "      <td>350</td>\n",
              "      <td>5.5</td>\n",
              "      <td>3.3</td>\n",
              "    </tr>\n",
              "    <tr>\n",
              "      <th>1</th>\n",
              "      <td>2</td>\n",
              "      <td>460</td>\n",
              "      <td>7.5</td>\n",
              "      <td>3.3</td>\n",
              "    </tr>\n",
              "    <tr>\n",
              "      <th>2</th>\n",
              "      <td>3</td>\n",
              "      <td>350</td>\n",
              "      <td>8.0</td>\n",
              "      <td>3.0</td>\n",
              "    </tr>\n",
              "    <tr>\n",
              "      <th>3</th>\n",
              "      <td>4</td>\n",
              "      <td>430</td>\n",
              "      <td>8.0</td>\n",
              "      <td>4.5</td>\n",
              "    </tr>\n",
              "    <tr>\n",
              "      <th>4</th>\n",
              "      <td>5</td>\n",
              "      <td>350</td>\n",
              "      <td>6.8</td>\n",
              "      <td>3.0</td>\n",
              "    </tr>\n",
              "    <tr>\n",
              "      <th>5</th>\n",
              "      <td>6</td>\n",
              "      <td>380</td>\n",
              "      <td>7.5</td>\n",
              "      <td>4.0</td>\n",
              "    </tr>\n",
              "    <tr>\n",
              "      <th>6</th>\n",
              "      <td>7</td>\n",
              "      <td>430</td>\n",
              "      <td>4.5</td>\n",
              "      <td>3.0</td>\n",
              "    </tr>\n",
              "    <tr>\n",
              "      <th>7</th>\n",
              "      <td>8</td>\n",
              "      <td>470</td>\n",
              "      <td>6.4</td>\n",
              "      <td>3.7</td>\n",
              "    </tr>\n",
              "    <tr>\n",
              "      <th>8</th>\n",
              "      <td>9</td>\n",
              "      <td>450</td>\n",
              "      <td>7.0</td>\n",
              "      <td>3.5</td>\n",
              "    </tr>\n",
              "    <tr>\n",
              "      <th>9</th>\n",
              "      <td>10</td>\n",
              "      <td>490</td>\n",
              "      <td>5.0</td>\n",
              "      <td>4.0</td>\n",
              "    </tr>\n",
              "    <tr>\n",
              "      <th>10</th>\n",
              "      <td>11</td>\n",
              "      <td>340</td>\n",
              "      <td>7.2</td>\n",
              "      <td>3.5</td>\n",
              "    </tr>\n",
              "    <tr>\n",
              "      <th>11</th>\n",
              "      <td>12</td>\n",
              "      <td>300</td>\n",
              "      <td>7.9</td>\n",
              "      <td>3.2</td>\n",
              "    </tr>\n",
              "    <tr>\n",
              "      <th>12</th>\n",
              "      <td>13</td>\n",
              "      <td>440</td>\n",
              "      <td>5.9</td>\n",
              "      <td>4.0</td>\n",
              "    </tr>\n",
              "    <tr>\n",
              "      <th>13</th>\n",
              "      <td>14</td>\n",
              "      <td>450</td>\n",
              "      <td>5.0</td>\n",
              "      <td>3.5</td>\n",
              "    </tr>\n",
              "    <tr>\n",
              "      <th>14</th>\n",
              "      <td>15</td>\n",
              "      <td>300</td>\n",
              "      <td>7.0</td>\n",
              "      <td>2.7</td>\n",
              "    </tr>\n",
              "  </tbody>\n",
              "</table>\n",
              "</div>"
            ],
            "text/plain": [
              "    week  pie_sales  price  advertising\n",
              "0      1        350    5.5          3.3\n",
              "1      2        460    7.5          3.3\n",
              "2      3        350    8.0          3.0\n",
              "3      4        430    8.0          4.5\n",
              "4      5        350    6.8          3.0\n",
              "5      6        380    7.5          4.0\n",
              "6      7        430    4.5          3.0\n",
              "7      8        470    6.4          3.7\n",
              "8      9        450    7.0          3.5\n",
              "9     10        490    5.0          4.0\n",
              "10    11        340    7.2          3.5\n",
              "11    12        300    7.9          3.2\n",
              "12    13        440    5.9          4.0\n",
              "13    14        450    5.0          3.5\n",
              "14    15        300    7.0          2.7"
            ]
          },
          "metadata": {
            "tags": []
          },
          "execution_count": 16
        }
      ]
    },
    {
      "cell_type": "markdown",
      "metadata": {
        "id": "VsdeFmcd8KUr"
      },
      "source": [
        "\n",
        "Setelah melihat data pada dataset, variabel yang mempengaruhi penjualan (pie_sales) adalah price dan advertising. Karena itu,kita drop kolom week, kemudian kita lakukan pairplot untuk melihat hubungan antar variabel."
      ]
    },
    {
      "cell_type": "code",
      "metadata": {
        "id": "rwOhosiG8YuJ",
        "outputId": "dc086621-ce90-42bb-fdcb-bd7aed643655",
        "colab": {
          "base_uri": "https://localhost:8080/",
          "height": 567
        }
      },
      "source": [
        "df.drop('week', axis=1, inplace= True)\n",
        "sns.pairplot(df)"
      ],
      "execution_count": 17,
      "outputs": [
        {
          "output_type": "execute_result",
          "data": {
            "text/plain": [
              "<seaborn.axisgrid.PairGrid at 0x7fcc940459e8>"
            ]
          },
          "metadata": {
            "tags": []
          },
          "execution_count": 17
        },
        {
          "output_type": "display_data",
          "data": {
            "image/png": "[encoded data removed]",
            "text/plain": [
              "<Figure size 540x540 with 12 Axes>"
            ]
          },
          "metadata": {
            "tags": [],
            "needs_background": "light"
          }
        }
      ]
    },
    {
      "cell_type": "markdown",
      "metadata": {
        "id": "t9MwSxj78i0A"
      },
      "source": [
        "Dapat dilihat hubungan antar pie_sales dengan price dan advertising dari hasil pairplot diatas."
      ]
    },
    {
      "cell_type": "markdown",
      "metadata": {
        "id": "fB70624F84x5"
      },
      "source": [
        "# Hubungan pie_sales dengan price"
      ]
    },
    {
      "cell_type": "code",
      "metadata": {
        "id": "5_hHTqQe8_r8",
        "outputId": "5497c6e0-267e-4e31-9d9f-d32385914702",
        "colab": {
          "base_uri": "https://localhost:8080/",
          "height": 279
        }
      },
      "source": [
        "Xprice = df[['price']]\n",
        "Y = df[['pie_sales']]\n",
        "reg_price = linear_model.LinearRegression()\n",
        "reg_price.fit(Xprice, Y)\n",
        "plt.scatter(Xprice, Y)\n",
        "plt.plot(Xprice, reg_price.predict(Xprice), color = \"black\")\n",
        "plt.xlabel('Price')\n",
        "plt.ylabel('Pie_Sales')\n",
        "plt.show()"
      ],
      "execution_count": 18,
      "outputs": [
        {
          "output_type": "display_data",
          "data": {
            "image/png": "[encoded data removed]",
            "text/plain": [
              "<Figure size 432x288 with 1 Axes>"
            ]
          },
          "metadata": {
            "tags": [],
            "needs_background": "light"
          }
        }
      ]
    },
    {
      "cell_type": "markdown",
      "metadata": {
        "id": "Z3TdBiaC9Her"
      },
      "source": [
        "Hasilnya berupa single linear regression untuk attribut Pie_sales dan Price. Tahap selanjutnya kita cek Root Mean Squared Error dan R-squared dari model yang telah kita buat untuk mengetahui seberapa baik model tersebut."
      ]
    },
    {
      "cell_type": "code",
      "metadata": {
        "id": "ILCTyo939qUM",
        "outputId": "600759d4-6a6b-480a-e458-70f18b739f62",
        "colab": {
          "base_uri": "https://localhost:8080/",
          "height": 50
        }
      },
      "source": [
        "X_price_pred = reg_price.predict(Xprice)\n",
        "print('RMSE: ', np.sqrt(metrics.mean_squared_error(Y, X_price_pred)))\n",
        "print('R^2:',metrics.r2_score(Y, X_price_pred))"
      ],
      "execution_count": 19,
      "outputs": [
        {
          "output_type": "stream",
          "text": [
            "RMSE:  55.01084456895846\n",
            "R^2: 0.1964911145353151\n"
          ],
          "name": "stdout"
        }
      ]
    },
    {
      "cell_type": "markdown",
      "metadata": {
        "id": "17pzqUA19xMb"
      },
      "source": [
        "Dari nilai RMSE, dapat dilihat bahwa akar dari MSE nilainya 55.\n",
        "Dari R-squared, didapatkan nilainya 0.196. "
      ]
    },
    {
      "cell_type": "markdown",
      "metadata": {
        "id": "KTshTKC8-ET3"
      },
      "source": [
        "# Hubungan pie_sales dan advertising"
      ]
    },
    {
      "cell_type": "code",
      "metadata": {
        "id": "PlbmpL9A-JtV",
        "outputId": "a4c1b53e-4119-4337-b55d-bbf8a0fe413c",
        "colab": {
          "base_uri": "https://localhost:8080/",
          "height": 279
        }
      },
      "source": [
        "Xadv = df[['advertising']]\n",
        "y = df[['pie_sales']]\n",
        "reg_adv = linear_model.LinearRegression()\n",
        "reg_adv.fit(Xadv, y)\n",
        "plt.scatter(Xadv, y)\n",
        "plt.plot(Xadv, reg_adv.predict(Xadv), color = \"black\")\n",
        "plt.xlabel('Advertising')\n",
        "plt.ylabel('Pie_Sales')\n",
        "plt.show()"
      ],
      "execution_count": 20,
      "outputs": [
        {
          "output_type": "display_data",
          "data": {
            "image/png": "[encoded data removed]",
            "text/plain": [
              "<Figure size 432x288 with 1 Axes>"
            ]
          },
          "metadata": {
            "tags": [],
            "needs_background": "light"
          }
        }
      ]
    },
    {
      "cell_type": "code",
      "metadata": {
        "id": "U6kUXDAY-aZ8",
        "outputId": "bbc0169e-2984-4a10-c97a-a311503e331f",
        "colab": {
          "base_uri": "https://localhost:8080/",
          "height": 50
        }
      },
      "source": [
        "X_adv_pred = reg_adv.predict(Xadv)\n",
        "print('RMSE: ', np.sqrt(metrics.mean_squared_error(Y, X_adv_pred)))\n",
        "print('R^2:',metrics.r2_score(Y, X_adv_pred))"
      ],
      "execution_count": 21,
      "outputs": [
        {
          "output_type": "stream",
          "text": [
            "RMSE:  50.99615073401459\n",
            "R^2: 0.3094917834795541\n"
          ],
          "name": "stdout"
        }
      ]
    },
    {
      "cell_type": "markdown",
      "metadata": {
        "id": "LNorFxPy-ecv"
      },
      "source": [
        "Nilai RMSE model kedua kita memiliki nilai yang lebih rendah dari model pertama, yaitu 50.99. Sementara, R-squarednya juga lebih tinggi, yaitu 0.309."
      ]
    },
    {
      "cell_type": "markdown",
      "metadata": {
        "id": "t6BD2zSc-mVT"
      },
      "source": [
        "Artinya, model ini lebih baik dibandingkan model pertama. Oleh karena itu untuk memprediksi pie_sales , atribut advertising lebih berpengaruh."
      ]
    },
    {
      "cell_type": "markdown",
      "metadata": {
        "id": "c7wg9Lll-2wo"
      },
      "source": [
        "# Multiple Linear Regression"
      ]
    },
    {
      "cell_type": "markdown",
      "metadata": {
        "id": "s6ZfyDxJ-6xj"
      },
      "source": [
        "Lakukan regresi linear dengan 2 variabel dependen (price dan advertising) dan periksa apakah hasilnya lebih baik daripada kedua model yang telah dibuat."
      ]
    },
    {
      "cell_type": "code",
      "metadata": {
        "id": "jIMjBZx9_IE9",
        "outputId": "631231f6-e9c2-4700-9a9d-b1eb518b3fe2",
        "colab": {
          "base_uri": "https://localhost:8080/",
          "height": 491
        }
      },
      "source": [
        "X = df[['price', 'advertising']]\n",
        "X"
      ],
      "execution_count": 23,
      "outputs": [
        {
          "output_type": "execute_result",
          "data": {
            "text/html": [
              "<div>\n",
              "<style scoped>\n",
              "    .dataframe tbody tr th:only-of-type {\n",
              "        vertical-align: middle;\n",
              "    }\n",
              "\n",
              "    .dataframe tbody tr th {\n",
              "        vertical-align: top;\n",
              "    }\n",
              "\n",
              "    .dataframe thead th {\n",
              "        text-align: right;\n",
              "    }\n",
              "</style>\n",
              "<table border=\"1\" class=\"dataframe\">\n",
              "  <thead>\n",
              "    <tr style=\"text-align: right;\">\n",
              "      <th></th>\n",
              "      <th>price</th>\n",
              "      <th>advertising</th>\n",
              "    </tr>\n",
              "  </thead>\n",
              "  <tbody>\n",
              "    <tr>\n",
              "      <th>0</th>\n",
              "      <td>5.5</td>\n",
              "      <td>3.3</td>\n",
              "    </tr>\n",
              "    <tr>\n",
              "      <th>1</th>\n",
              "      <td>7.5</td>\n",
              "      <td>3.3</td>\n",
              "    </tr>\n",
              "    <tr>\n",
              "      <th>2</th>\n",
              "      <td>8.0</td>\n",
              "      <td>3.0</td>\n",
              "    </tr>\n",
              "    <tr>\n",
              "      <th>3</th>\n",
              "      <td>8.0</td>\n",
              "      <td>4.5</td>\n",
              "    </tr>\n",
              "    <tr>\n",
              "      <th>4</th>\n",
              "      <td>6.8</td>\n",
              "      <td>3.0</td>\n",
              "    </tr>\n",
              "    <tr>\n",
              "      <th>5</th>\n",
              "      <td>7.5</td>\n",
              "      <td>4.0</td>\n",
              "    </tr>\n",
              "    <tr>\n",
              "      <th>6</th>\n",
              "      <td>4.5</td>\n",
              "      <td>3.0</td>\n",
              "    </tr>\n",
              "    <tr>\n",
              "      <th>7</th>\n",
              "      <td>6.4</td>\n",
              "      <td>3.7</td>\n",
              "    </tr>\n",
              "    <tr>\n",
              "      <th>8</th>\n",
              "      <td>7.0</td>\n",
              "      <td>3.5</td>\n",
              "    </tr>\n",
              "    <tr>\n",
              "      <th>9</th>\n",
              "      <td>5.0</td>\n",
              "      <td>4.0</td>\n",
              "    </tr>\n",
              "    <tr>\n",
              "      <th>10</th>\n",
              "      <td>7.2</td>\n",
              "      <td>3.5</td>\n",
              "    </tr>\n",
              "    <tr>\n",
              "      <th>11</th>\n",
              "      <td>7.9</td>\n",
              "      <td>3.2</td>\n",
              "    </tr>\n",
              "    <tr>\n",
              "      <th>12</th>\n",
              "      <td>5.9</td>\n",
              "      <td>4.0</td>\n",
              "    </tr>\n",
              "    <tr>\n",
              "      <th>13</th>\n",
              "      <td>5.0</td>\n",
              "      <td>3.5</td>\n",
              "    </tr>\n",
              "    <tr>\n",
              "      <th>14</th>\n",
              "      <td>7.0</td>\n",
              "      <td>2.7</td>\n",
              "    </tr>\n",
              "  </tbody>\n",
              "</table>\n",
              "</div>"
            ],
            "text/plain": [
              "    price  advertising\n",
              "0     5.5          3.3\n",
              "1     7.5          3.3\n",
              "2     8.0          3.0\n",
              "3     8.0          4.5\n",
              "4     6.8          3.0\n",
              "5     7.5          4.0\n",
              "6     4.5          3.0\n",
              "7     6.4          3.7\n",
              "8     7.0          3.5\n",
              "9     5.0          4.0\n",
              "10    7.2          3.5\n",
              "11    7.9          3.2\n",
              "12    5.9          4.0\n",
              "13    5.0          3.5\n",
              "14    7.0          2.7"
            ]
          },
          "metadata": {
            "tags": []
          },
          "execution_count": 23
        }
      ]
    },
    {
      "cell_type": "code",
      "metadata": {
        "id": "6-eTcBp9_Ltr",
        "outputId": "94438b9c-bf62-4ba8-b20f-fd096774e805",
        "colab": {
          "base_uri": "https://localhost:8080/",
          "height": 50
        }
      },
      "source": [
        "reg = linear_model.LinearRegression()\n",
        "reg.fit(X, Y)\n",
        "X_pred = reg.predict(X)\n",
        "print('RMSE: ', np.sqrt(metrics.mean_squared_error(Y, X_pred)))\n",
        "print('R^2:',metrics.r2_score(Y, X_pred))"
      ],
      "execution_count": 27,
      "outputs": [
        {
          "output_type": "stream",
          "text": [
            "RMSE:  42.45256683818261\n",
            "R^2: 0.5214779360292288\n"
          ],
          "name": "stdout"
        }
      ]
    },
    {
      "cell_type": "markdown",
      "metadata": {
        "id": "l1-FQsAUArcJ"
      },
      "source": [
        "Menggunakan 2 attribut ini untuk memprediksi pie_sales jauh lebih baik dibandingkan hanya menggunakan 1 attribut saja.\n"
      ]
    },
    {
      "cell_type": "code",
      "metadata": {
        "id": "jRsFdlF5A5al",
        "outputId": "a77493b3-d4b6-4980-b839-1bd830928017",
        "colab": {
          "base_uri": "https://localhost:8080/",
          "height": 118
        }
      },
      "source": [
        "koef = pd.DataFrame(reg.coef_)\n",
        "\n",
        "print('Intercept: \\n', reg.intercept_)\n",
        "print('Price Coefficient: \\n', koef[0][0])\n",
        "print('Advertising Coefficient: \\n', koef[1][0])"
      ],
      "execution_count": 28,
      "outputs": [
        {
          "output_type": "stream",
          "text": [
            "Intercept: \n",
            " [306.52619328]\n",
            "Price Coefficient: \n",
            " -24.975089517826934\n",
            "Advertising Coefficient: \n",
            " 74.13095748874095\n"
          ],
          "name": "stdout"
        }
      ]
    },
    {
      "cell_type": "markdown",
      "metadata": {
        "id": "IrrdP-jwBG8K"
      },
      "source": [
        "Model regresi linear dua variabel yang telah kita buat dapat dituliskan dengan persamaan:\n",
        "\n",
        "${y} = a + bX_{1} + cX_{2}$\n",
        "\n",
        "\n",
        "y adalah penjualan, a adalah intercept, b adalah koefisien harga, X1 adalah harga, c adalah koefisien iklan, dan X2 adalah iklan. Artinya, dengan nilai yang kita dapatkan di atas, model kita dapat ditulis dengan persamaan:\n",
        "\n",
        "${y} = 306.526 - 24.975X_{1} + 74.131X_{2}$\n",
        "\n",
        "Dengan persamaan tersebut, kita dapat menghitung secara manual perkiraan penjualan. Namun tentu saja, untuk mendapatkan hasil yang lebih presisi dapat menggunakan reg.predict dengan nilai harga dan iklan yang ingin diprediksi berapa kira-kira penjualannya."
      ]
    },
    {
      "cell_type": "markdown",
      "metadata": {
        "id": "OcrZ9y2cBZn_"
      },
      "source": [
        "# Regression menggunakan Statsmodels"
      ]
    },
    {
      "cell_type": "code",
      "metadata": {
        "id": "SXOXLVXaBl2W",
        "outputId": "0d93a7a1-be72-45b0-d718-3d1704e20bb3",
        "colab": {
          "base_uri": "https://localhost:8080/",
          "height": 487
        }
      },
      "source": [
        "X = sm.add_constant(X)\n",
        "model = sm.OLS(Y, X).fit()\n",
        "predictions = model.predict(X) \n",
        "\n",
        "print_model = model.summary()\n",
        "print(print_model)"
      ],
      "execution_count": 31,
      "outputs": [
        {
          "output_type": "stream",
          "text": [
            "                            OLS Regression Results                            \n",
            "==============================================================================\n",
            "Dep. Variable:              pie_sales   R-squared:                       0.521\n",
            "Model:                            OLS   Adj. R-squared:                  0.442\n",
            "Method:                 Least Squares   F-statistic:                     6.539\n",
            "Date:                Sat, 24 Oct 2020   Prob (F-statistic):             0.0120\n",
            "Time:                        05:13:38   Log-Likelihood:                -77.510\n",
            "No. Observations:                  15   AIC:                             161.0\n",
            "Df Residuals:                      12   BIC:                             163.1\n",
            "Df Model:                           2                                         \n",
            "Covariance Type:            nonrobust                                         \n",
            "===============================================================================\n",
            "                  coef    std err          t      P>|t|      [0.025      0.975]\n",
            "-------------------------------------------------------------------------------\n",
            "const         306.5262    114.254      2.683      0.020      57.588     555.464\n",
            "price         -24.9751     10.832     -2.306      0.040     -48.576      -1.374\n",
            "advertising    74.1310     25.967      2.855      0.014      17.553     130.709\n",
            "==============================================================================\n",
            "Omnibus:                        1.505   Durbin-Watson:                   1.683\n",
            "Prob(Omnibus):                  0.471   Jarque-Bera (JB):                0.937\n",
            "Skew:                           0.595   Prob(JB):                        0.626\n",
            "Kurtosis:                       2.709   Cond. No.                         72.2\n",
            "==============================================================================\n",
            "\n",
            "Warnings:\n",
            "[1] Standard Errors assume that the covariance matrix of the errors is correctly specified.\n"
          ],
          "name": "stdout"
        },
        {
          "output_type": "stream",
          "text": [
            "/usr/local/lib/python3.6/dist-packages/scipy/stats/stats.py:1535: UserWarning: kurtosistest only valid for n>=20 ... continuing anyway, n=15\n",
            "  \"anyway, n=%i\" % int(n))\n"
          ],
          "name": "stderr"
        }
      ]
    },
    {
      "cell_type": "markdown",
      "metadata": {
        "id": "6zdP8f8oB9Ir"
      },
      "source": [
        "**R-squared**\n",
        "\n",
        "Dikarenakan jumlah Independent varibels adalah 2 maka digunakan R-squared, karena Adjusted R-squared digunakan untuk regresi dengan lebih dari dua Independent variables.\n",
        "\n",
        "Nilai R-squared = 0.521 menunjukkan bahwa atribut price dan advertising hanya mempengaruhi price_sales sebesar 52.1% dan terdapat 47.9% dipengaruhi oleh atribut lain yang mungkin tidak dimasukkan ke dalam data."
      ]
    },
    {
      "cell_type": "markdown",
      "metadata": {
        "id": "O51ni2tzCGhS"
      },
      "source": [
        "**Autocorrelation dengan Durbin Watson**\n",
        "\n",
        "H0: tidak terdapat autocorrelation\n",
        "\n",
        "H1: ada autocorrelation\n",
        "\n",
        "Nilai Durbin-Watson (D)=1.683. Berdasarkan pada tabel Durbin-Watson untuk n=15 dan k=2.\n",
        "\n",
        "dL=0.9455\n",
        "\n",
        "dU=1.5432.\n",
        "\n",
        "4-dU=2.4568\n",
        "\n",
        "4-dL=3.0545\n",
        "\n",
        "D > dU dan D < 4-dU\n",
        "\n",
        "Sehingga H0 diterima\n",
        "\n",
        "Membuktikan tidak ada autocorrelation pada data."
      ]
    },
    {
      "cell_type": "markdown",
      "metadata": {
        "id": "F-x5C4ZSCMgU"
      },
      "source": [
        "**F-Test**\n",
        "\n",
        "H0: tidak terdapat autocorrelation\n",
        "\n",
        "H1: ada autocorrelation\n",
        "\n",
        "Dengan menggunakan F-Test\n",
        "\n",
        "Nilai F-statistic=6.539.\n",
        "\n",
        "Tingkat signifikansi menggunakan $\\alpha$= 5% atau 0.05.\n",
        "\n",
        "Dengan n=15, k=2\n",
        "\n",
        "Maka,\n",
        "\n",
        "df1 = 2\n",
        "\n",
        "df2 = 12\n",
        "\n",
        "Berdasarkan table distribusi F maka nilai F=3.89\n",
        "\n",
        "F-statistic > F, artinya secara signifikan atribut price dan advertising secara bersama-sama berpengaruh terhadap pie_sales."
      ]
    },
    {
      "cell_type": "markdown",
      "metadata": {
        "id": "_DgktLi7CQr2"
      },
      "source": [
        "**T-Test**\n",
        "\n",
        "H0: Secara parsial tidak ada pengaruh yang terlalu signifikan\n",
        "\n",
        "Ha: Secara parsial ada pengaruh yang signifikan\n",
        "\n",
        "**Atribut Price**\n",
        "\n",
        "Tingkat signifikansi menggunakan $\\alpha$ = 5% atau 0.05.\n",
        "\n",
        "Dengan t=-2.306\n",
        "\n",
        "Dengan alpha = 5%/2 = 2.5% (uji 2 sisi)\n",
        "\n",
        "df = 12\n",
        "\n",
        "maka berdasarkan table distribusi T maka nilai T = 2.17881.\n",
        "\n",
        "-t < -T, H0 ditolak dan artinya secara parsial ada pengaruh signifikan antara Price dengan pie_sales.\n",
        "\n",
        "**Atribut Advertising**\n",
        "\n",
        "Tingkat signifikansi menggunakan $\\alpha$ = 5% atau 0.05.\n",
        "\n",
        "Dengan t=2.855\n",
        "\n",
        "Dengan alpha = 5%/2 = 2.5% (uji 2 sisi)\n",
        "\n",
        "df = 12\n",
        "\n",
        "maka berdasarkan table distribusi T maka nilai T = 2.17881.\n",
        "\n",
        "t > T, H0 ditolak, artinya secara parsial ada pengaruh signifikan antara advertising dengan pie_sales.\n",
        "\n",
        "\"Dapat disimpulkan pada t-Tes menunjukkan bahwa atribut price dan atribut advertising sama-sama memiliki pengaruh yang signifikan terhadap pie_sales\""
      ]
    },
    {
      "cell_type": "markdown",
      "metadata": {
        "id": "WeIWlj1cCzQB"
      },
      "source": [
        "# Kesimpulan"
      ]
    },
    {
      "cell_type": "markdown",
      "metadata": {
        "id": "lHnUuZN6C2MW"
      },
      "source": [
        "Dari hasil regresi linear yang dicoba, dapat disimpulkan bahwa penggunaan multiple linear regression dengan variabel price dan advertising lebih efektif digunakan dibandingkan single linear regression dengan salah satu variabel saja. Selain itu, dari hasil validasi dengan t-Test dan F-test, dapat dibuktikan bahwa kedua variabel tersebut memang layak digunakan untuk perhitungan regresi linear. \n",
        "\n",
        "Dilihat juga dari hasil regresi, bahwa atribut price dan advertising hanya dapat mempengaruhi 52.1% nilai prediksi, 47.9% dipengaruhi atribut lain yang mungkin tidak dimasukkan dalam dataset.\n",
        "\n",
        "Sementara denganan Durbin_Watson, dapat dibuktikan bahwa tidak terjadi autokorelasi sehingga regresi linear dapat digunakan."
      ]
    }
  ]
}